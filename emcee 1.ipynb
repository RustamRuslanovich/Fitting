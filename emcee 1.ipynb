{
 "cells": [
  {
   "cell_type": "code",
   "execution_count": 1,
   "metadata": {},
   "outputs": [],
   "source": [
    "import corner\n",
    "import matplotlib.pyplot as plt\n",
    "import numpy as np\n",
    "import json\n",
    "import emcee\n",
    "import lmfit"
   ]
  },
  {
   "cell_type": "code",
   "execution_count": 2,
   "metadata": {},
   "outputs": [],
   "source": [
    "with open('flux for2.txt') as fr:\n",
    "\tfl1 = json.load(fr)\n",
    "with open('flux for8.txt') as fr:\n",
    "\tfl2 = json.load(fr)\n",
    "with open('time.txt') as fr:\n",
    "\ttime = json.load(fr)\n",
    "with open('position of core for2.txt') as fr:\n",
    "\tposition1 = json.load(fr)\n",
    "with open('position of core for8.txt') as fr:\n",
    "\tposition2 = json.load(fr)\n",
    "\n",
    "\n",
    "crsh = np.array(position1) - np.array(position2)\n",
    "\n",
    "inaccuracy_crshf=crsh*0.1\n",
    "\n",
    "fl1=np.array(fl1)\n",
    "fl2=np.array(fl2)\n"
   ]
  },
  {
   "cell_type": "code",
   "execution_count": 3,
   "metadata": {},
   "outputs": [],
   "source": [
    "a_true=0\n",
    "b1_true=1\n",
    "b2_true=1\n",
    "k_true=0.28\n",
    "f_true = 1"
   ]
  },
  {
   "cell_type": "code",
   "execution_count": 4,
   "metadata": {},
   "outputs": [
    {
     "data": {
      "text/plain": [
       "<ErrorbarContainer object of 3 artists>"
      ]
     },
     "execution_count": 4,
     "metadata": {},
     "output_type": "execute_result"
    },
    {
     "data": {
      "image/png": "[encoded data removed]",
      "text/plain": [
       "<Figure size 432x288 with 1 Axes>"
      ]
     },
     "metadata": {
      "needs_background": "light"
     },
     "output_type": "display_data"
    }
   ],
   "source": [
    "plt.errorbar(fl1, crsh, yerr=inaccuracy_crshf, fmt=\".k\", capsize=0)"
   ]
  },
  {
   "cell_type": "code",
   "execution_count": 5,
   "metadata": {},
   "outputs": [
    {
     "data": {
      "text/plain": [
       "<ErrorbarContainer object of 3 artists>"
      ]
     },
     "execution_count": 5,
     "metadata": {},
     "output_type": "execute_result"
    },
    {
     "data": {
      "image/png": "[encoded data removed]",
      "text/plain": [
       "<Figure size 432x288 with 1 Axes>"
      ]
     },
     "metadata": {
      "needs_background": "light"
     },
     "output_type": "display_data"
    }
   ],
   "source": [
    "plt.errorbar(time, fl1, yerr=fl1*0.1, fmt=\".k\", capsize=0)"
   ]
  },
  {
   "cell_type": "code",
   "execution_count": 6,
   "metadata": {},
   "outputs": [
    {
     "data": {
      "text/plain": [
       "<ErrorbarContainer object of 3 artists>"
      ]
     },
     "execution_count": 6,
     "metadata": {},
     "output_type": "execute_result"
    },
    {
     "data": {
      "image/png": "[encoded data removed]",
      "text/plain": [
       "<Figure size 432x288 with 1 Axes>"
      ]
     },
     "metadata": {
      "needs_background": "light"
     },
     "output_type": "display_data"
    }
   ],
   "source": [
    "plt.errorbar(time, fl2, yerr=fl2*0.1, fmt=\".k\", capsize=0)"
   ]
  },
  {
   "cell_type": "code",
   "execution_count": 7,
   "metadata": {},
   "outputs": [],
   "source": [
    "def log_likelihood(theta, fl1, fl2, crsh, inaccuracy_crshf):\n",
    "    a,b1,b2,k= theta\n",
    "    model = a + b1*fl1**k + b2*fl2**k\n",
    "    #sigma2 = inaccuracy_crshf**2+ model ** 2 * np.exp(2 * log_f)\n",
    "    sigma2 = inaccuracy_crshf**2\n",
    "    return -0.5 * np.sum((crsh - model) ** 2 / sigma2 + np.log(sigma2))"
   ]
  },
  {
   "cell_type": "code",
   "execution_count": 8,
   "metadata": {},
   "outputs": [],
   "source": [
    "from scipy.optimize import minimize\n",
    "nll = lambda *args: -log_likelihood(*args)\n",
    "#initial = np.array([a_true, b1_true, b2_true, k_true, np.log(f_true)]) + 0.1 * np.random.randn(5)\n",
    "initial = np.array([a_true, b1_true, b2_true, k_true]) + 0.1 * np.random.randn(4)\n",
    "soln = minimize(nll, initial, args=(fl1, fl2, crsh, inaccuracy_crshf))\n",
    "#a_ml, b1_ml, b2_ml, k_ml, log_f_ml = soln.x\n",
    "a_ml, b1_ml, b2_ml, k_ml = soln.x"
   ]
  },
  {
   "cell_type": "code",
   "execution_count": 9,
   "metadata": {},
   "outputs": [
    {
     "name": "stdout",
     "output_type": "stream",
     "text": [
      "Maximum likelihood estimates:\n",
      "a = 0.221\n",
      "b1 = 0.062\n",
      "b2 = 0.366\n",
      "k = -1.300\n"
     ]
    }
   ],
   "source": [
    "print(\"Maximum likelihood estimates:\")\n",
    "print(\"a = {0:.3f}\".format(a_ml))\n",
    "print(\"b1 = {0:.3f}\".format(b1_ml))\n",
    "print(\"b2 = {0:.3f}\".format(b2_ml))\n",
    "print(\"k = {0:.3f}\".format(k_ml))\n",
    "#print(\"f = {0:.3f}\".format(np.exp(log_f_ml)))"
   ]
  },
  {
   "cell_type": "code",
   "execution_count": 10,
   "metadata": {},
   "outputs": [
    {
     "data": {
      "text/plain": [
       "[<matplotlib.lines.Line2D at 0x7f0c5f2f6c88>]"
      ]
     },
     "execution_count": 10,
     "metadata": {},
     "output_type": "execute_result"
    },
    {
     "data": {
      "image/png": "[encoded data removed]",
      "text/plain": [
       "<Figure size 432x288 with 1 Axes>"
      ]
     },
     "metadata": {
      "needs_background": "light"
     },
     "output_type": "display_data"
    }
   ],
   "source": [
    "plt.errorbar(fl1, crsh, yerr=inaccuracy_crshf, fmt=\".k\", capsize=0)\n",
    "#plt.plot(fl1, a_true + b1_true*fl1**k_true + b2_true*fl2**k_true, \"k\", alpha=0.3, lw=3, label=\"truth\")\n",
    "plt.plot(fl1, a_ml + b1_ml*fl1**k_ml + b2_ml*fl2**k_ml, \":k\", label=\"ML\")"
   ]
  },
  {
   "cell_type": "code",
   "execution_count": 11,
   "metadata": {},
   "outputs": [],
   "source": [
    "def log_prior(theta):\n",
    "    a,b1,b2,k = theta\n",
    "    if -1.0 < a < 1. and -10. < b1 < 10.0 and -10. < b2 < 10.0 and 0.23 < k < 0.3:\n",
    "        return 0.0\n",
    "    return -np.inf"
   ]
  },
  {
   "cell_type": "code",
   "execution_count": 12,
   "metadata": {},
   "outputs": [],
   "source": [
    "def log_probability(theta,fl1, fl2, crsh, inaccuracy_crshf):\n",
    "    lp = log_prior(theta)\n",
    "    if not np.isfinite(lp):\n",
    "        return -np.inf\n",
    "    return lp + log_likelihood(theta, fl1, fl2, crsh, inaccuracy_crshf)"
   ]
  },
  {
   "cell_type": "code",
   "execution_count": 13,
   "metadata": {},
   "outputs": [
    {
     "data": {
      "text/plain": [
       "(4,)"
      ]
     },
     "execution_count": 13,
     "metadata": {},
     "output_type": "execute_result"
    }
   ],
   "source": [
    "soln.x.shape"
   ]
  },
  {
   "cell_type": "code",
   "execution_count": 14,
   "metadata": {},
   "outputs": [
    {
     "name": "stderr",
     "output_type": "stream",
     "text": [
      "  0%|          | 0/5000 [00:00<?, ?it/s]/home/rustam/anaconda3/lib/python3.7/site-packages/emcee/moves/red_blue.py:99: RuntimeWarning: invalid value encountered in double_scalars\n",
      "  lnpdiff = f + nlp - state.log_prob[j]\n",
      "100%|██████████| 5000/5000 [00:06<00:00, 725.81it/s]\n"
     ]
    }
   ],
   "source": [
    "pos = soln.x + 1e-4 * np.random.randn(32, 4)\n",
    "#pos = soln.x\n",
    "nwalkers, ndim = pos.shape\n",
    "\n",
    "sampler = emcee.EnsembleSampler(nwalkers, ndim, log_probability, args=(fl1, fl2, crsh, inaccuracy_crshf))\n",
    "sampler.run_mcmc(pos, 5000, progress=True);"
   ]
  },
  {
   "cell_type": "code",
   "execution_count": 15,
   "metadata": {},
   "outputs": [
    {
     "data": {
      "image/png": "[encoded data removed]",
      "text/plain": [
       "<Figure size 720x504 with 5 Axes>"
      ]
     },
     "metadata": {
      "needs_background": "light"
     },
     "output_type": "display_data"
    }
   ],
   "source": [
    "fig, axes = plt.subplots(5, figsize=(10, 7), sharex=True)\n",
    "samples = sampler.get_chain()\n",
    "labels = [\"a\", \"b1\",\"b2\",\"k\"]\n",
    "for i in range(ndim):\n",
    "    ax = axes[i]\n",
    "    ax.plot(samples[:, :, i], \"k\", alpha=0.3)\n",
    "    ax.set_xlim(0, len(samples))\n",
    "    ax.set_ylabel(labels[i])\n",
    "    ax.yaxis.set_label_coords(-0.1, 0.5)\n",
    "\n",
    "axes[-1].set_xlabel(\"step number\");"
   ]
  },
  {
   "cell_type": "code",
   "execution_count": 16,
   "metadata": {},
   "outputs": [
    {
     "name": "stdout",
     "output_type": "stream",
     "text": [
      "[nan nan nan nan]\n"
     ]
    },
    {
     "name": "stderr",
     "output_type": "stream",
     "text": [
      "/home/rustam/anaconda3/lib/python3.7/site-packages/emcee/autocorr.py:36: RuntimeWarning: invalid value encountered in true_divide\n",
      "  acf /= acf[0]\n",
      "/home/rustam/anaconda3/lib/python3.7/site-packages/emcee/autocorr.py:41: RuntimeWarning: invalid value encountered in less\n",
      "  m = np.arange(len(taus)) < c * taus\n",
      "/home/rustam/anaconda3/lib/python3.7/site-packages/emcee/autocorr.py:99: RuntimeWarning: invalid value encountered in greater\n",
      "  flag = tol * tau_est > n_t\n"
     ]
    }
   ],
   "source": [
    "tau = sampler.get_autocorr_time()\n",
    "print(tau)"
   ]
  },
  {
   "cell_type": "code",
   "execution_count": 17,
   "metadata": {},
   "outputs": [],
   "source": [
    "f_true = 0.1\n",
    "k = 0.28\n",
    "a = 0.4\n",
    "def log_likelihood(theta, fl1, fl2, crsh, inaccuracy_crshf):\n",
    "    b1,b2= theta\n",
    "    model = a + b1*fl1**k + b2*fl2**k\n",
    "    sigma2 = inaccuracy_crshf**2\n",
    "    return -0.5 * np.sum((crsh - model) ** 2 / sigma2)"
   ]
  },
  {
   "cell_type": "code",
   "execution_count": 18,
   "metadata": {},
   "outputs": [],
   "source": [
    "from scipy.optimize import minimize\n",
    "nll = lambda *args: -log_likelihood(*args)\n",
    "initial = np.array([ b1_true, b2_true]) + 0.1 * np.random.randn(2)\n",
    "soln = minimize(nll, initial, args=(fl1, fl2, crsh, inaccuracy_crshf))\n",
    "b1_ml, b2_ml = soln.x"
   ]
  },
  {
   "cell_type": "code",
   "execution_count": 19,
   "metadata": {},
   "outputs": [
    {
     "name": "stdout",
     "output_type": "stream",
     "text": [
      "Maximum likelihood estimates:\n",
      "b1 = 0.459\n",
      "b2 = -0.339\n"
     ]
    }
   ],
   "source": [
    "print(\"Maximum likelihood estimates:\")\n",
    "#print(\"a = {0:.3f}\".format(a_ml))\n",
    "print(\"b1 = {0:.3f}\".format(b1_ml))\n",
    "print(\"b2 = {0:.3f}\".format(b2_ml))\n",
    "\n",
    "#print(\"f = {0:.3f}\".format(np.exp(log_f_ml)))"
   ]
  },
  {
   "cell_type": "code",
   "execution_count": 20,
   "metadata": {},
   "outputs": [
    {
     "data": {
      "text/plain": [
       "[<matplotlib.lines.Line2D at 0x7f0c5ef328d0>]"
      ]
     },
     "execution_count": 20,
     "metadata": {},
     "output_type": "execute_result"
    },
    {
     "data": {
      "image/png": "[encoded data removed]",
      "text/plain": [
       "<Figure size 432x288 with 1 Axes>"
      ]
     },
     "metadata": {
      "needs_background": "light"
     },
     "output_type": "display_data"
    }
   ],
   "source": [
    "plt.errorbar(fl1, crsh, yerr=inaccuracy_crshf, fmt=\".k\", capsize=0)\n",
    "#plt.plot(fl1, a_true + b1_true*fl1**k_true + b2_true*fl2**k_true, \"k\", alpha=0.3, lw=3, label=\"truth\")\n",
    "plt.plot(fl1, a + b1_ml*fl1**k + b2_ml*fl2**k, \":k\", label=\"ML\")"
   ]
  },
  {
   "cell_type": "code",
   "execution_count": null,
   "metadata": {},
   "outputs": [],
   "source": []
  },
  {
   "cell_type": "code",
   "execution_count": null,
   "metadata": {},
   "outputs": [],
   "source": []
  },
  {
   "cell_type": "code",
   "execution_count": null,
   "metadata": {},
   "outputs": [],
   "source": []
  }
 ],
 "metadata": {
  "kernelspec": {
   "display_name": "Python 3",
   "language": "python",
   "name": "python3"
  },
  "language_info": {
   "codemirror_mode": {
    "name": "ipython",
    "version": 3
   },
   "file_extension": ".py",
   "mimetype": "text/x-python",
   "name": "python",
   "nbconvert_exporter": "python",
   "pygments_lexer": "ipython3",
   "version": "3.7.3"
  }
 },
 "nbformat": 4,
 "nbformat_minor": 2
}
